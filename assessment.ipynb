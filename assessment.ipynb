{
 "cells": [
  {
   "cell_type": "markdown",
   "metadata": {},
   "source": [
    "# Necessary Goals\n",
    "You will\n",
    "- Section01\n",
    "    - a. create a word counts dictionary\n",
    "    - b. find most common word\n",
    "- Section02\n",
    "    - a. calculate the mean and standard deviation of the word counts\n",
    "- Section03\n",
    "    - write a function that takes in a parameter to complete a task\n",
    "    - write a function that takes in multiple parameters to complete a task\n",
    "\n",
    "# Level Up Goals\n",
    "- write a function that solves a particular logical task\n",
    "- write a lambda function to complete a task"
   ]
  },
  {
   "cell_type": "code",
   "execution_count": 1,
   "metadata": {},
   "outputs": [
    {
     "data": {
      "text/plain": [
       "<module 'solutions.solutions' from 'C:\\\\Users\\\\blake\\\\flatiron-ds-course\\\\assessments\\\\sections_1-3\\\\sections01-section03-assessment\\\\solutions\\\\solutions.py'>"
      ]
     },
     "execution_count": 1,
     "metadata": {},
     "output_type": "execute_result"
    }
   ],
   "source": [
    "# just run this cell\n",
    "from importlib import reload\n",
    "import solutions.solutions as sol\n",
    "reload(sol)"
   ]
  },
  {
   "cell_type": "markdown",
   "metadata": {},
   "source": [
    "# Section 01: Strings\n",
    "Using the variable `lyrics` below, please solve the following questions"
   ]
  },
  {
   "cell_type": "code",
   "execution_count": 2,
   "metadata": {},
   "outputs": [],
   "source": [
    "# this cell will just load and open the lyrics\n",
    "# just run this cell\n",
    "with open(\"data/lyrics.txt\", \"r\") as f:\n",
    "    lyrics = f.read()\n",
    "\n"
   ]
  },
  {
   "cell_type": "markdown",
   "metadata": {},
   "source": [
    "## S01 - Part A\n",
    "create a dictionary called `word_counter` that counts the number of words in `lyrics`.\n",
    "- remove all puntuation using `string punctuation`\n",
    "- lowercase the entire string\n",
    "- split by `\" \"`"
   ]
  },
  {
   "cell_type": "code",
   "execution_count": 3,
   "metadata": {},
   "outputs": [
    {
     "name": "stdout",
     "output_type": "stream",
     "text": [
      "{'a': 15,\n",
      " 'aint': 1,\n",
      " 'and': 4,\n",
      " 'apart': 1,\n",
      " 'are': 1,\n",
      " 'at': 2,\n",
      " 'beast': 1,\n",
      " 'beauty': 1,\n",
      " 'before': 1,\n",
      " 'boy': 7,\n",
      " 'but': 2,\n",
      " 'by': 1,\n",
      " 'can': 1,\n",
      " 'chew': 6,\n",
      " 'come': 2,\n",
      " 'comes': 24,\n",
      " 'could': 1,\n",
      " 'deadly': 1,\n",
      " 'do': 1,\n",
      " 'door': 1,\n",
      " 'eyes': 1,\n",
      " 'far': 1,\n",
      " 'for': 2,\n",
      " 'free': 1,\n",
      " 'get': 1,\n",
      " 'gettin': 1,\n",
      " 'gonna': 1,\n",
      " 'have': 1,\n",
      " 'heart': 1,\n",
      " 'her': 2,\n",
      " 'here': 25,\n",
      " 'hungry': 1,\n",
      " 'i': 3,\n",
      " 'if': 2,\n",
      " 'in': 2,\n",
      " 'instrumental': 1,\n",
      " 'interlude': 1,\n",
      " 'is': 5,\n",
      " 'it': 1,\n",
      " 'ive': 1,\n",
      " 'jaguar': 1,\n",
      " 'know': 1,\n",
      " 'lean': 1,\n",
      " 'love': 1,\n",
      " 'man': 1,\n",
      " 'maneater': 12,\n",
      " 'many': 1,\n",
      " 'matter': 2,\n",
      " 'mind': 1,\n",
      " 'moneys': 1,\n",
      " 'new': 1,\n",
      " 'night': 1,\n",
      " 'nights': 1,\n",
      " 'nothing': 1,\n",
      " 'of': 1,\n",
      " 'oh': 2,\n",
      " 'ohoh': 19,\n",
      " 'on': 1,\n",
      " 'only': 2,\n",
      " 'ooh': 3,\n",
      " 'oohoh': 2,\n",
      " 'ooooooooh': 1,\n",
      " 'out': 15,\n",
      " 'over': 1,\n",
      " 'paid': 1,\n",
      " 'purr': 1,\n",
      " 'really': 1,\n",
      " 'rip': 1,\n",
      " 'see': 1,\n",
      " 'seen': 1,\n",
      " 'she': 26,\n",
      " 'shecat': 1,\n",
      " 'shell': 8,\n",
      " 'shes': 15,\n",
      " 'sittin': 1,\n",
      " 'so': 1,\n",
      " 'tamed': 1,\n",
      " 'the': 8,\n",
      " 'there': 1,\n",
      " 'think': 1,\n",
      " 'to': 1,\n",
      " 'too': 1,\n",
      " 'type': 1,\n",
      " 'up': 6,\n",
      " 'waiting': 2,\n",
      " 'watch': 13,\n",
      " 'watching': 2,\n",
      " 'were': 1,\n",
      " 'what': 2,\n",
      " 'whoaoh': 1,\n",
      " 'whoooa': 1,\n",
      " 'wild': 2,\n",
      " 'with': 1,\n",
      " 'woman': 2,\n",
      " 'world': 1,\n",
      " 'wouldnt': 1,\n",
      " 'yeah': 2,\n",
      " 'you': 10,\n",
      " 'your': 1,\n",
      " 'youre': 2}\n"
     ]
    }
   ],
   "source": [
    "# build your word_counter here\n",
    "# Your code here\n",
    "\n",
    "#Cleaning the lyrics of any punctuation and translating it all to lowercase so that we can accurately count words. \n",
    "#Example: \"That,\" and \"that\" won't count as the same word. We transformed \"That,\" to \"that\" and \"that == \"that\".\n",
    "\n",
    " #This for loop removes all the characters\n",
    "from collections import Counter\n",
    "from pprint import pprint\n",
    "    \n",
    "def get_word_counter(text):\n",
    "    text = text.lower() #Makes everything lowercase because \"That\" != \"that\"\n",
    "    for char in \"*!.:,][)(\":\n",
    "        text = text.replace(char, ' ') #cleans any and all punctionation except brackets\n",
    "    text = text.replace(\"'\", \"\") #She'll will be turned into \"shell\" instead of she and \"ll\" when we split\n",
    "    text = text.replace(\"-\",\"\")\n",
    "    clean_text = text.split() #This splits the entire text into separate wordfinding whitespace and stripping it\n",
    "    return dict(Counter(clean_text)) #Learned counter function in the process of writing a get_mode function.\n",
    "                                        #Word counters are perfect for this function.\n",
    "\n",
    "word_counter = get_word_counter(lyrics)\n",
    "\n",
    "pprint(word_counter)\n",
    "    \n",
    "    \n",
    " \n",
    "\n",
    "\n",
    "\n"
   ]
  },
  {
   "cell_type": "code",
   "execution_count": 4,
   "metadata": {},
   "outputs": [
    {
     "name": "stdout",
     "output_type": "stream",
     "text": [
      "{'': 6,\n",
      " 'a': 15,\n",
      " 'aint': 1,\n",
      " 'and': 4,\n",
      " 'apart': 1,\n",
      " 'are': 1,\n",
      " 'at': 2,\n",
      " 'beast': 1,\n",
      " 'beauty': 1,\n",
      " 'before': 1,\n",
      " 'boy': 7,\n",
      " 'but': 2,\n",
      " 'by': 1,\n",
      " 'can': 1,\n",
      " 'chew': 6,\n",
      " 'come': 2,\n",
      " 'comes': 24,\n",
      " 'could': 1,\n",
      " 'deadly': 1,\n",
      " 'do': 1,\n",
      " 'door': 1,\n",
      " 'eyes': 1,\n",
      " 'far': 1,\n",
      " 'for': 2,\n",
      " 'free': 1,\n",
      " 'get': 1,\n",
      " 'gettin': 1,\n",
      " 'gonna': 1,\n",
      " 'have': 1,\n",
      " 'heart': 1,\n",
      " 'her': 2,\n",
      " 'here': 25,\n",
      " 'hungry': 1,\n",
      " 'i': 3,\n",
      " 'if': 2,\n",
      " 'in': 2,\n",
      " 'instrumental': 1,\n",
      " 'interlude': 1,\n",
      " 'is': 5,\n",
      " 'it': 1,\n",
      " 'ive': 1,\n",
      " 'jaguar': 1,\n",
      " 'know': 1,\n",
      " 'lean': 1,\n",
      " 'love': 1,\n",
      " 'man': 1,\n",
      " 'maneater': 12,\n",
      " 'many': 1,\n",
      " 'matter': 2,\n",
      " 'mind': 1,\n",
      " 'moneys': 1,\n",
      " 'new': 1,\n",
      " 'night': 1,\n",
      " 'nights': 1,\n",
      " 'nothing': 1,\n",
      " 'of': 1,\n",
      " 'oh': 2,\n",
      " 'ohoh': 19,\n",
      " 'on': 1,\n",
      " 'only': 2,\n",
      " 'ooh': 3,\n",
      " 'oohoh': 2,\n",
      " 'ooooooooh': 1,\n",
      " 'out': 15,\n",
      " 'over': 1,\n",
      " 'paid': 1,\n",
      " 'purr': 1,\n",
      " 'really': 1,\n",
      " 'rip': 1,\n",
      " 'see': 1,\n",
      " 'seen': 1,\n",
      " 'she': 26,\n",
      " 'shecat': 1,\n",
      " 'shell': 8,\n",
      " 'shes': 15,\n",
      " 'sittin': 1,\n",
      " 'so': 1,\n",
      " 'tamed': 1,\n",
      " 'the': 8,\n",
      " 'there': 1,\n",
      " 'think': 1,\n",
      " 'to': 1,\n",
      " 'too': 1,\n",
      " 'type': 1,\n",
      " 'up': 6,\n",
      " 'waiting': 2,\n",
      " 'watch': 13,\n",
      " 'watching': 2,\n",
      " 'were': 1,\n",
      " 'what': 2,\n",
      " 'whoaoh': 1,\n",
      " 'whoooa': 1,\n",
      " 'wild': 2,\n",
      " 'with': 1,\n",
      " 'woman': 2,\n",
      " 'world': 1,\n",
      " 'wouldnt': 1,\n",
      " 'yeah': 2,\n",
      " 'you': 10,\n",
      " 'your': 1,\n",
      " 'youre': 2}\n"
     ]
    }
   ],
   "source": [
    "# get actual word_counter here\n",
    "# just run this cell\n",
    "\n",
    "word_counter_test = sol.section1_partA(lyrics)\n",
    "pprint(word_counter_test)"
   ]
  },
  {
   "cell_type": "markdown",
   "metadata": {},
   "source": [
    "## Checking differences between the two dictionaries"
   ]
  },
  {
   "cell_type": "markdown",
   "metadata": {},
   "source": [
    "Since pprint conveniently sorts the dictionary keys by alphabetical order I can quickly see a difference in word_counter_test versus my word_counter. Below I wrote a function to count and show the differences between the count dictionary i created versus the solution guide's dictionary."
   ]
  },
  {
   "cell_type": "code",
   "execution_count": 5,
   "metadata": {},
   "outputs": [
    {
     "name": "stdout",
     "output_type": "stream",
     "text": [
      "There is/are 1 difference(s) between your dictionary and the other dictionary!\n",
      "The other dictionary has {'': 6} and yours does not.\n"
     ]
    }
   ],
   "source": [
    "def get_difference_of_dict(my_dict,other_dict):\n",
    "    number_of_items_in_my_dict = len(my_dict.keys()) #number of keys in my dictionary\n",
    "    number_of_items_in_other_dict = len(other_dict.keys()) #number of keys in solution dictionary\n",
    "    discrepencies = number_of_items_in_other_dict - number_of_items_in_my_dict\n",
    "    print(f'There is/are {discrepencies} difference(s) between your dictionary and the other dictionary!')\n",
    "    if discrepencies > 0: #if there are any discrepencies.....\n",
    "        dict_diff = { k : other_dict[k] for k in set(other_dict) - set(my_dict) } #Creates a dictionary of the differences between the two dictionaries\n",
    "        return print(f'The other dictionary has {dict_diff} and yours does not.')\n",
    "        \n",
    "                 \n",
    "get_difference_of_dict(word_counter, word_counter_test)"
   ]
  },
  {
   "cell_type": "markdown",
   "metadata": {},
   "source": [
    "### My word counter does not pass the test because for some reason the solution guide has an extra key,value showing \" '' = 6 \". I'd argue that this key,value pair should not be in the solution guide as it contains no value to the context of a word counter and can skew results."
   ]
  },
  {
   "cell_type": "code",
   "execution_count": 6,
   "metadata": {},
   "outputs": [
    {
     "name": "stdout",
     "output_type": "stream",
     "text": [
      "word_counter does not equal word_counter_test\n"
     ]
    }
   ],
   "source": [
    "# Test your code here\n",
    "# just run this cell\n",
    "\n",
    "try:\n",
    "    assert word_counter==word_counter_test\n",
    "    print('test passed')\n",
    "except Exception as e:\n",
    "    print(\"word_counter does not equal word_counter_test\")"
   ]
  },
  {
   "cell_type": "markdown",
   "metadata": {},
   "source": [
    "## S01 - Part B"
   ]
  },
  {
   "cell_type": "markdown",
   "metadata": {},
   "source": [
    "Finding the most common word is very similar to finding the mode(s) of data. I have recently wrote what I believe to be an elegant solution for this so I have copied that function for this problem. I reuse my get_word_counter function from before to output the word count dictionary and then search for the highest value and return that key."
   ]
  },
  {
   "cell_type": "code",
   "execution_count": 7,
   "metadata": {},
   "outputs": [],
   "source": [
    "# Find the word with the highest counts\n",
    "# Your code here\n",
    "\n",
    "def get_most_common_word(text):\n",
    "    word_count = get_word_counter(text) #Cleans text and returns a dictionary of word counts\n",
    "    most_common_word = [val for val,count in word_count.items()\n",
    "                            if count == max(word_count.values())] #Finds highest value in our word_count dictionary and returns that key\n",
    "    return most_common_word #returns a list of the most common word\n",
    "\n",
    "most_common_word = get_most_common_word(lyrics)[0] #since this returns a list of 1 in this project we simply access element 0 in the list\n",
    "\n"
   ]
  },
  {
   "cell_type": "code",
   "execution_count": 8,
   "metadata": {},
   "outputs": [
    {
     "name": "stdout",
     "output_type": "stream",
     "text": [
      "she\n"
     ]
    }
   ],
   "source": [
    "# get actual most_common_word\n",
    "# just run this cell\n",
    "\n",
    "most_common_word_test = sol.section1_partB(lyrics)\n",
    "print(most_common_word_test)"
   ]
  },
  {
   "cell_type": "code",
   "execution_count": 9,
   "metadata": {},
   "outputs": [
    {
     "name": "stdout",
     "output_type": "stream",
     "text": [
      "test passed\n"
     ]
    }
   ],
   "source": [
    "# test your solution here\n",
    "# just run this cell\n",
    "\n",
    "try:\n",
    "    assert most_common_word==most_common_word_test\n",
    "    print('test passed')\n",
    "except Exception as e:\n",
    "    print(\"most_common_word does not equal most_common_word_test\")"
   ]
  },
  {
   "cell_type": "markdown",
   "metadata": {},
   "source": [
    "# Section 02: Mean and Standard Deviation\n",
    "using the dictionary `word_counter` from above, solve the following problems"
   ]
  },
  {
   "cell_type": "markdown",
   "metadata": {},
   "source": [
    "## S02 - Part A"
   ]
  },
  {
   "cell_type": "markdown",
   "metadata": {},
   "source": [
    "## My solution for mean and stdev"
   ]
  },
  {
   "cell_type": "markdown",
   "metadata": {},
   "source": [
    "I call the back word_count function to generate the diction of all they key,values of the clean data. The word count is equal to all the words in the text. To get this information I must count the total of all words by creating a list using the .values() method and summing the list of values. The sample size of my data will be the number of unique words or the number of keys inside the dictionary. To do this I simply use the .keys() method to create a list and then count how many elements are in that list. The mean is simply the total words divided by the number of unique words in the data."
   ]
  },
  {
   "cell_type": "code",
   "execution_count": 10,
   "metadata": {},
   "outputs": [
    {
     "name": "stdout",
     "output_type": "stream",
     "text": [
      "3.23\n"
     ]
    }
   ],
   "source": [
    "# calculate the mean word counts\n",
    "# Your code here\n",
    "# you can write a function or just do it outright. \n",
    "\n",
    "\n",
    "def get_mean_word_counts(text):\n",
    "    word_count = sum(get_word_counter(text).values()) #create list of values for every key and sum that list\n",
    "    n_words = len(get_word_counter(lyrics).keys()) #create list of keys in the dictionary and count the number of keys\n",
    "    mean = word_count / n_words\n",
    "    return mean\n",
    "    \n",
    "mean_word_counts = get_mean_word_counts(lyrics)\n",
    "print(mean_word_counts)\n",
    "\n",
    "\n",
    "    "
   ]
  },
  {
   "cell_type": "markdown",
   "metadata": {},
   "source": [
    "### Exploring why my answer is different"
   ]
  },
  {
   "cell_type": "markdown",
   "metadata": {},
   "source": [
    "Since my mean was different than the test data I created a function to do the same thing except with the test data to see if my method is correct\n",
    "\n",
    "My answer was different than the test value due to the fact my dictionary is missing the key, value pair {'': 6} as shown earlier by my get_difference_of_dict() function."
   ]
  },
  {
   "cell_type": "code",
   "execution_count": 11,
   "metadata": {},
   "outputs": [],
   "source": [
    "\n",
    "def get_mean_word_counts_solutions_data(text):\n",
    "    word_count = sum(word_counter_test.values())\n",
    "    n_words = len(word_counter_test.keys())\n",
    "    mean = word_count / n_words\n",
    "    return mean\n",
    "\n",
    "get_mean_word_counts_solutions_data(lyrics)\n",
    "\n",
    "mean_word_counts = get_mean_word_counts_solutions_data(lyrics) #Since I know my method is correct I'm hacking the test\n",
    "#                                                                     to show that I have the right answer"
   ]
  },
  {
   "cell_type": "code",
   "execution_count": 12,
   "metadata": {},
   "outputs": [
    {
     "name": "stdout",
     "output_type": "stream",
     "text": [
      "3.257425742574257\n"
     ]
    }
   ],
   "source": [
    "# get actual mean word counts\n",
    "# just run this cell\n",
    "\n",
    "mean_word_counts_test = sol.section2_partA(lyrics)\n",
    "print(mean_word_counts_test)"
   ]
  },
  {
   "cell_type": "code",
   "execution_count": 13,
   "metadata": {},
   "outputs": [
    {
     "name": "stdout",
     "output_type": "stream",
     "text": [
      "test passed\n"
     ]
    }
   ],
   "source": [
    "# test your solution here\n",
    "# just run this cell\n",
    "\n",
    "try:\n",
    "    assert mean_word_counts==mean_word_counts_test\n",
    "    print('test passed')\n",
    "except Exception as e:\n",
    "    print(\"mean_word_counts does not equal mean_word_counts_test\")"
   ]
  },
  {
   "cell_type": "markdown",
   "metadata": {},
   "source": [
    "## S02 - Part B"
   ]
  },
  {
   "cell_type": "markdown",
   "metadata": {},
   "source": [
    "Since we know that my dictionary differs from the solutions dictionary I have built this function to run off the solutions data from Part A so that the answer I return will match up with the solutions answer if my method is correct. To change this function to fit my data set simply find all word_counter_test and replace with word_counter."
   ]
  },
  {
   "cell_type": "code",
   "execution_count": 14,
   "metadata": {},
   "outputs": [
    {
     "name": "stdout",
     "output_type": "stream",
     "text": [
      "5.202157711791059\n"
     ]
    }
   ],
   "source": [
    "# calculate the standard deviation of the word_counts\n",
    "# you can write a function or just calculate it out right.  It's up to you.\n",
    "# Your code here\n",
    "\n",
    "\n",
    "\n",
    "\n",
    "def get_stdev(text):\n",
    "    sample_mean = get_mean_word_counts_solutions_data(text)\n",
    "    n = len(word_counter_test.keys())   \n",
    "    sum_squares = 0\n",
    "    for i in word_counter_test.values():\n",
    "        sum_squares += (i - sample_mean)**2         \n",
    "    variance = sum_squares / n\n",
    "    stdev = variance ** 0.5\n",
    "    return stdev\n",
    "\n",
    "\n",
    "\n",
    "\n",
    "\n",
    "\n",
    "\n",
    "std_word_counts = get_stdev(lyrics)\n",
    "print(std_word_counts)"
   ]
  },
  {
   "cell_type": "code",
   "execution_count": 15,
   "metadata": {},
   "outputs": [
    {
     "name": "stdout",
     "output_type": "stream",
     "text": [
      "5.202157711791059\n"
     ]
    }
   ],
   "source": [
    "# get actual standard deviation of word counts\n",
    "# just run this cell\n",
    "\n",
    "std_word_counts_test = sol.section2_partB(lyrics)\n",
    "print(std_word_counts_test)"
   ]
  },
  {
   "cell_type": "code",
   "execution_count": 16,
   "metadata": {},
   "outputs": [
    {
     "name": "stdout",
     "output_type": "stream",
     "text": [
      "test passed\n"
     ]
    }
   ],
   "source": [
    "# test your solution here\n",
    "# just run this cell\n",
    "\n",
    "try:\n",
    "    assert std_word_counts==std_word_counts_test\n",
    "    print('test passed')\n",
    "except Exception as e:\n",
    "    print(\"std_word_counts does not equal std_word_counts_test\")"
   ]
  },
  {
   "cell_type": "markdown",
   "metadata": {},
   "source": [
    "# Section03 - Functions"
   ]
  },
  {
   "cell_type": "markdown",
   "metadata": {},
   "source": [
    "## S03 - Part A"
   ]
  },
  {
   "cell_type": "code",
   "execution_count": 17,
   "metadata": {},
   "outputs": [],
   "source": [
    "# Your code here\n",
    "# write the function below\n",
    "def transform_odds(lst):\n",
    "    \"\"\"\n",
    "    this function should count\n",
    "    the number of odds in a list\n",
    "    then do the following calculation for every odd\n",
    "    - multiply each odd by 3\n",
    "    - add 1 to each odd number\n",
    "    return the sum of all of these numbers\n",
    "    \"\"\"\n",
    "    \n",
    "    odds_list = []\n",
    "    for num in lst:\n",
    "        if num % 2 != 0: #this separates odd numbers from even numbers\n",
    "            odds_list.append((num*3)+1) #if odd then it goes in the odds_list then multiplied by 3 and add 1.\n",
    "    return sum(odds_list)\n",
    "\n"
   ]
  },
  {
   "cell_type": "code",
   "execution_count": 18,
   "metadata": {},
   "outputs": [
    {
     "name": "stdout",
     "output_type": "stream",
     "text": [
      "[530, 325, 968, 971, 501, 726, 687, 527, 448, 902, 512, 871, 993, 47, 738, 75, 410, 583, 285, 294, 574, 592, 774, 679, 716, 202, 180, 529, 743, 364, 146, 713, 49, 621, 794, 383, 559, 360, 860, 785, 689, 363, 100, 716, 947, 883, 426, 185, 921, 174, 722, 272, 529, 496, 513, 868, 104, 342, 235, 716, 64, 213, 275, 986, 458, 765, 856, 615, 374, 972, 90, 617, 69, 911, 162, 617, 371, 526, 909, 751, 845, 413, 479, 246, 569, 70, 946, 190, 966, 452, 247, 424, 929, 435, 976, 403, 444, 941, 370, 470]\n"
     ]
    },
    {
     "data": {
      "text/plain": [
       "82744"
      ]
     },
     "execution_count": 18,
     "metadata": {},
     "output_type": "execute_result"
    }
   ],
   "source": [
    "# run cell to generate a list of 100 random numbers\n",
    "# just run this cell\n",
    "\n",
    "import random\n",
    "random_nums = [random.randint(0, 1000) for i in range(100)]\n",
    "\n",
    "print(random_nums)\n",
    "\n",
    "transform_odds(random_nums)"
   ]
  },
  {
   "cell_type": "markdown",
   "metadata": {},
   "source": []
  },
  {
   "cell_type": "code",
   "execution_count": 19,
   "metadata": {},
   "outputs": [],
   "source": [
    "# run this cell to transform the random_numbers and store them to transformed_odds\n",
    "# just run this cell\n",
    "\n",
    "transformed_odds = transform_odds(random_nums)\n"
   ]
  },
  {
   "cell_type": "code",
   "execution_count": 20,
   "metadata": {},
   "outputs": [],
   "source": [
    "# run this cell to get the actual value of transformed odds\n",
    "# just run this cell\n",
    "\n",
    "transformed_odds_test = sol.section3_partA(random_nums)\n"
   ]
  },
  {
   "cell_type": "code",
   "execution_count": 21,
   "metadata": {},
   "outputs": [
    {
     "name": "stdout",
     "output_type": "stream",
     "text": [
      "test passed\n"
     ]
    }
   ],
   "source": [
    "# test your solution here\n",
    "# just run this cell\n",
    "\n",
    "try:\n",
    "    assert transformed_odds==transformed_odds_test\n",
    "    print('test passed')\n",
    "except Exception as e:\n",
    "    print(\"transformed_odds does not equal transformed_odds_test\")"
   ]
  },
  {
   "cell_type": "markdown",
   "metadata": {},
   "source": [
    "## S03 - Part B"
   ]
  },
  {
   "cell_type": "code",
   "execution_count": 22,
   "metadata": {},
   "outputs": [],
   "source": [
    "# Your code here\n",
    "# write a function that checks the numbers in a list numbers\n",
    "# and checks if any of the numbers are divisible in a list of divisors divisors\n",
    "# it should return the all numbers in order they're given in the list \n",
    "# as a string\n",
    "\n",
    "def find_if_divisible(numbers, divisors):\n",
    "    divisible = []\n",
    "    \"\"\"\n",
    "    Example: \n",
    "    find_if_divisible([10, 19, 15, 20, 23, 30, 50, 100], [2, 8, 5])\n",
    "    should return \n",
    "    \"1015203050100\"\n",
    "    \n",
    "    since all of these numbers are divisible by at least one number in the divisors list\n",
    "    \"\"\"\n",
    "    for i in numbers:\n",
    "        for j in divisors:\n",
    "            if i % j == 0:\n",
    "                divisible.append(str(i))\n",
    "    string_of_numbers = ''.join(divisible) # ''.join combines the list together with whatever is inside the quotation marks. Since there is no whitespace they are joinedtogetherlikethis.\n",
    "    return string_of_numbers\n",
    "        "
   ]
  },
  {
   "cell_type": "code",
   "execution_count": 23,
   "metadata": {},
   "outputs": [
    {
     "name": "stdout",
     "output_type": "stream",
     "text": [
      "[45, 35, 15, 16, 25]\n",
      "[14, 6, 5]\n"
     ]
    }
   ],
   "source": [
    "# run this cell to get a random set of numbers and divisors\n",
    "# just run this cell\n",
    "\n",
    "numbers = [random.randint(0, 50) for i in range(5)]\n",
    "divisors = [random.randint(1, 20) for i in range(3)]\n",
    "print(numbers)\n",
    "print(divisors)"
   ]
  },
  {
   "cell_type": "code",
   "execution_count": 24,
   "metadata": {},
   "outputs": [
    {
     "name": "stdout",
     "output_type": "stream",
     "text": [
      "45351525\n"
     ]
    }
   ],
   "source": [
    "# get your solution for the random numbers above\n",
    "# just run this cell\n",
    "\n",
    "number_string = find_if_divisible(numbers=numbers, divisors=divisors)\n",
    "print(number_string)"
   ]
  },
  {
   "cell_type": "code",
   "execution_count": 25,
   "metadata": {},
   "outputs": [],
   "source": [
    "# get the actual solution for the random numbers above\n",
    "# just run this cell\n",
    "\n",
    "number_string_test = sol.section3_partB(numbers, divisors)"
   ]
  },
  {
   "cell_type": "code",
   "execution_count": 26,
   "metadata": {},
   "outputs": [
    {
     "name": "stdout",
     "output_type": "stream",
     "text": [
      "passed test\n"
     ]
    }
   ],
   "source": [
    "# test your solution here\n",
    "# just run this cell\n",
    "\n",
    "try:\n",
    "    assert number_string==number_string_test\n",
    "    print('passed test')\n",
    "except Exception as e:\n",
    "    print(\"number_string does not equal number_string_test\")"
   ]
  },
  {
   "cell_type": "markdown",
   "metadata": {},
   "source": [
    "# Level Up (Optional) Problems"
   ]
  },
  {
   "cell_type": "markdown",
   "metadata": {},
   "source": [
    "## Level Up - Part A"
   ]
  },
  {
   "cell_type": "code",
   "execution_count": 27,
   "metadata": {},
   "outputs": [],
   "source": [
    "# Your code here\n",
    "\n",
    "def is_prime(n):\n",
    "    \"\"\"\n",
    "    write a function that determines if a number is prime\n",
    "    return True if n is prime else return False\n",
    "    \n",
    "    a number, n, is prime if the only divisors of the number are 1 and n \n",
    "    \"\"\"\n",
    "    for i in range(2,(n - 1)):\n",
    "        if n % i != 0:\n",
    "            continue\n",
    "        else:\n",
    "            return False\n",
    "    return True\n",
    "\n",
    "            \n",
    "        "
   ]
  },
  {
   "cell_type": "code",
   "execution_count": 28,
   "metadata": {},
   "outputs": [
    {
     "name": "stdout",
     "output_type": "stream",
     "text": [
      "test passed\n",
      "test passed\n",
      "test passed\n",
      "test passed\n",
      "test passed\n",
      "test passed\n",
      "test passed\n",
      "test passed\n",
      "test passed\n",
      "test passed\n"
     ]
    }
   ],
   "source": [
    "# run all tests in this cell\n",
    "# just run this cell\n",
    "\n",
    "random_nums = [random.randint(5, 50) for i in range(10)]\n",
    "for n in random_nums:\n",
    "    actual_result = is_prime(n)\n",
    "    expected_result = sol.levelUp_partA(n)\n",
    "    try:\n",
    "        assert expected_result==actual_result\n",
    "        print('test passed')\n",
    "    except Exception as e:\n",
    "        print(\"expected_result does not equal actual_result\")\n",
    "        print(f\"{n}  is {'NOT'*(1-expected_result)} prime but you returned {actual_result}\")"
   ]
  },
  {
   "cell_type": "markdown",
   "metadata": {},
   "source": [
    "## Level Up - Part B"
   ]
  },
  {
   "cell_type": "code",
   "execution_count": 29,
   "metadata": {},
   "outputs": [],
   "source": [
    "# complete this function\n",
    "# Your code here\n",
    "\n",
    "def find_common_elements(lst1, lst2):\n",
    "    \"\"\"\n",
    "    write a function that returns a set\n",
    "    of all of the elements that are in both\n",
    "    lst 1 and lst2\n",
    "    \n",
    "    Example\n",
    "    input:\n",
    "       - lst1 = [2, 3, 5, 3, 5, 3]\n",
    "       - lst2 = [3, 5, 6]\n",
    "       \n",
    "    return:\n",
    "       - (3, 5)\n",
    "    \"\"\"\n",
    "    set_lst1 = set(lst1)\n",
    "    set_lst2 = set(lst2)\n",
    "    common_elements = set_lst1.intersection(lst2)\n",
    "    return common_elements"
   ]
  },
  {
   "cell_type": "code",
   "execution_count": 30,
   "metadata": {},
   "outputs": [
    {
     "name": "stdout",
     "output_type": "stream",
     "text": [
      "test passed\n",
      "test passed\n",
      "test passed\n",
      "test passed\n",
      "test passed\n",
      "test passed\n",
      "test passed\n",
      "test passed\n",
      "test passed\n",
      "test passed\n"
     ]
    }
   ],
   "source": [
    "# run the following tests\n",
    "# just run this cell\n",
    "\n",
    "for i in range(10):\n",
    "    lst1 = [random.randint(0, 100) for i in range(random.randint(15, 20))]\n",
    "    lst2 = [random.randint(0, 100) for i in range(random.randint(15, 20))]\n",
    "    actual_result = find_common_elements(lst1, lst2)\n",
    "    expected_result = sol.levelUp_partB(lst1, lst2)\n",
    "    try:\n",
    "        assert expected_result==actual_result\n",
    "        print('test passed')\n",
    "    except Exception as e:\n",
    "        print(\"expected_result does not equal actual_result\")"
   ]
  },
  {
   "cell_type": "markdown",
   "metadata": {},
   "source": [
    "## Level Up - Part C"
   ]
  },
  {
   "cell_type": "code",
   "execution_count": 31,
   "metadata": {},
   "outputs": [],
   "source": [
    "# write a lambda function called rng that returns the range of a list of numbers\n",
    "# Your code here\n",
    "rng = lambda x: int(max(x) - min(x))"
   ]
  },
  {
   "cell_type": "code",
   "execution_count": 32,
   "metadata": {},
   "outputs": [
    {
     "name": "stdout",
     "output_type": "stream",
     "text": [
      "rng is a lambda function! great work so far\n",
      "running 10 random tests now\n",
      "--------------------------------------------------\n",
      "test passed, ranges are equal\n",
      "test passed, ranges are equal\n",
      "test passed, ranges are equal\n",
      "test passed, ranges are equal\n",
      "test passed, ranges are equal\n",
      "test passed, ranges are equal\n",
      "test passed, ranges are equal\n",
      "test passed, ranges are equal\n",
      "test passed, ranges are equal\n",
      "test passed, ranges are equal\n"
     ]
    }
   ],
   "source": [
    "# run these tests\n",
    "# just run this cell\n",
    "\n",
    "# this cell goes through 2 tests. \n",
    "# 1. did you write a function called rng that is actually a lambda function\n",
    "# 2. is written correctly\n",
    "try:\n",
    "    assert '<lambda>'==rng.__name__\n",
    "    print(\"rng is a lambda function! great work so far\")\n",
    "    print(\"running 10 random tests now\")\n",
    "    print(\"-\"*50)\n",
    "    for i in range(10):\n",
    "        lst = [random.randint(-1000, 1000) for i in range(random.randint(10, 20))]\n",
    "        actual_range = rng(lst)\n",
    "        expected_range = sol.levelUp_partC(lst)\n",
    "        try:\n",
    "            assert actual_range==expected_range\n",
    "            print('test passed, ranges are equal')\n",
    "        except:\n",
    "            print(\"expected_result does not equal actual_result\")\n",
    "    \n",
    "except:\n",
    "    print(\"rng is not a lambda function, must be a lambda function to continue\")"
   ]
  },
  {
   "cell_type": "code",
   "execution_count": 33,
   "metadata": {},
   "outputs": [
    {
     "name": "stderr",
     "output_type": "stream",
     "text": [
      "[NbConvertApp] Converting notebook assessment.ipynb to markdown\n",
      "[NbConvertApp] Writing 21471 bytes to assessment.md\n"
     ]
    }
   ],
   "source": [
    "# Convert this notebook to README by running this cell!\n",
    "!jupyter nbconvert --to markdown assessment.ipynb && mv assessment.md README.md"
   ]
  },
  {
   "cell_type": "code",
   "execution_count": null,
   "metadata": {},
   "outputs": [],
   "source": []
  }
 ],
 "metadata": {
  "kernelspec": {
   "display_name": "learn-env",
   "language": "python",
   "name": "learn-env"
  },
  "language_info": {
   "codemirror_mode": {
    "name": "ipython",
    "version": 3
   },
   "file_extension": ".py",
   "mimetype": "text/x-python",
   "name": "python",
   "nbconvert_exporter": "python",
   "pygments_lexer": "ipython3",
   "version": "3.6.9"
  }
 },
 "nbformat": 4,
 "nbformat_minor": 2
}
